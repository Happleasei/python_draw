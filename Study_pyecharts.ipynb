{
 "cells": [
  {
   "cell_type": "code",
   "execution_count": 2,
   "id": "f4d0e17e",
   "metadata": {},
   "outputs": [],
   "source": [
    "import pandas as pd\n",
    "data = pd.read_csv(\"./data/data_analyze.csv\")"
   ]
  },
  {
   "cell_type": "code",
   "execution_count": 3,
   "id": "c1ff1003",
   "metadata": {},
   "outputs": [
    {
     "data": {
      "text/html": [
       "<div>\n",
       "<style scoped>\n",
       "    .dataframe tbody tr th:only-of-type {\n",
       "        vertical-align: middle;\n",
       "    }\n",
       "\n",
       "    .dataframe tbody tr th {\n",
       "        vertical-align: top;\n",
       "    }\n",
       "\n",
       "    .dataframe thead th {\n",
       "        text-align: right;\n",
       "    }\n",
       "</style>\n",
       "<table border=\"1\" class=\"dataframe\">\n",
       "  <thead>\n",
       "    <tr style=\"text-align: right;\">\n",
       "      <th></th>\n",
       "      <th>时间</th>\n",
       "      <th>1#给煤机瞬时流量输出信号</th>\n",
       "      <th>高温省煤器进口O2浓度（左）</th>\n",
       "      <th>高温省煤器进口O2浓度（右）</th>\n",
       "      <th>一次风转速</th>\n",
       "      <th>二次风转速</th>\n",
       "    </tr>\n",
       "  </thead>\n",
       "  <tbody>\n",
       "    <tr>\n",
       "      <th>0</th>\n",
       "      <td>2022-11-14 00:00:00</td>\n",
       "      <td>6.246</td>\n",
       "      <td>1.977</td>\n",
       "      <td>1.716</td>\n",
       "      <td>39.410</td>\n",
       "      <td>21.186</td>\n",
       "    </tr>\n",
       "    <tr>\n",
       "      <th>1</th>\n",
       "      <td>2022-11-14 00:00:05</td>\n",
       "      <td>6.138</td>\n",
       "      <td>1.928</td>\n",
       "      <td>1.747</td>\n",
       "      <td>39.418</td>\n",
       "      <td>21.632</td>\n",
       "    </tr>\n",
       "    <tr>\n",
       "      <th>2</th>\n",
       "      <td>2022-11-14 00:00:10</td>\n",
       "      <td>6.032</td>\n",
       "      <td>1.924</td>\n",
       "      <td>1.735</td>\n",
       "      <td>39.410</td>\n",
       "      <td>21.797</td>\n",
       "    </tr>\n",
       "    <tr>\n",
       "      <th>3</th>\n",
       "      <td>2022-11-14 00:00:15</td>\n",
       "      <td>5.993</td>\n",
       "      <td>1.955</td>\n",
       "      <td>1.676</td>\n",
       "      <td>39.413</td>\n",
       "      <td>21.973</td>\n",
       "    </tr>\n",
       "    <tr>\n",
       "      <th>4</th>\n",
       "      <td>2022-11-14 00:00:20</td>\n",
       "      <td>6.015</td>\n",
       "      <td>1.924</td>\n",
       "      <td>1.697</td>\n",
       "      <td>39.413</td>\n",
       "      <td>21.955</td>\n",
       "    </tr>\n",
       "  </tbody>\n",
       "</table>\n",
       "</div>"
      ],
      "text/plain": [
       "                    时间  1#给煤机瞬时流量输出信号  高温省煤器进口O2浓度（左）  高温省煤器进口O2浓度（右）   一次风转速  \\\n",
       "0  2022-11-14 00:00:00          6.246           1.977           1.716  39.410   \n",
       "1  2022-11-14 00:00:05          6.138           1.928           1.747  39.418   \n",
       "2  2022-11-14 00:00:10          6.032           1.924           1.735  39.410   \n",
       "3  2022-11-14 00:00:15          5.993           1.955           1.676  39.413   \n",
       "4  2022-11-14 00:00:20          6.015           1.924           1.697  39.413   \n",
       "\n",
       "    二次风转速  \n",
       "0  21.186  \n",
       "1  21.632  \n",
       "2  21.797  \n",
       "3  21.973  \n",
       "4  21.955  "
      ]
     },
     "execution_count": 3,
     "metadata": {},
     "output_type": "execute_result"
    }
   ],
   "source": [
    "data.head()"
   ]
  },
  {
   "cell_type": "code",
   "execution_count": 4,
   "id": "e767127e",
   "metadata": {},
   "outputs": [
    {
     "data": {
      "text/plain": [
       "0        2022-11-14 00:00:00\n",
       "1        2022-11-14 00:00:05\n",
       "2        2022-11-14 00:00:10\n",
       "3        2022-11-14 00:00:15\n",
       "4        2022-11-14 00:00:20\n",
       "                ...         \n",
       "34421    2022-11-15 23:59:40\n",
       "34422    2022-11-15 23:59:45\n",
       "34423    2022-11-15 23:59:50\n",
       "34424    2022-11-15 23:59:55\n",
       "34425    2022-11-16 00:00:00\n",
       "Name: 时间, Length: 34426, dtype: object"
      ]
     },
     "execution_count": 4,
     "metadata": {},
     "output_type": "execute_result"
    }
   ],
   "source": [
    "data[\"时间\"]"
   ]
  },
  {
   "cell_type": "code",
   "execution_count": 7,
   "id": "7478fc27",
   "metadata": {},
   "outputs": [
    {
     "data": {
      "text/plain": [
       "'D:\\\\JupyterProjects\\\\6_DrawingSkills\\\\html\\\\paint.html'"
      ]
     },
     "execution_count": 7,
     "metadata": {},
     "output_type": "execute_result"
    }
   ],
   "source": [
    "from pyecharts.charts import Line, Grid\n",
    "from pyecharts import options as opts\n",
    "l1 = (\n",
    "    Line()\n",
    "    .add_xaxis(xaxis_data=data[\"时间\"])\n",
    "    .add_yaxis(\n",
    "        series_name=\"一次风转速\",\n",
    "        y_axis=data[\"一次风转速\"],\n",
    "        symbol_size=8,\n",
    "        is_hover_animation=False,\n",
    "        label_opts=opts.LabelOpts(is_show=False),\n",
    "        linestyle_opts=opts.LineStyleOpts(width=1.5),\n",
    "        is_smooth=True,\n",
    "    )\n",
    "    .add_yaxis(\n",
    "        series_name=\"1#给煤机瞬时流量输出信号\",\n",
    "        y_axis=data[\"1#给煤机瞬时流量输出信号\"],\n",
    "        symbol_size=8,\n",
    "        is_hover_animation=False,\n",
    "        label_opts=opts.LabelOpts(is_show=False),\n",
    "        linestyle_opts=opts.LineStyleOpts(width=1.5),\n",
    "        is_smooth=True,\n",
    "    )\n",
    "   \n",
    "    .set_global_opts(\n",
    "        tooltip_opts=opts.TooltipOpts(trigger=\"axis\"),\n",
    "        xaxis_opts=opts.AxisOpts(\n",
    "            type_=\"category\",\n",
    "            boundary_gap=False,\n",
    "            axisline_opts=opts.AxisLineOpts(is_on_zero=True),\n",
    "        ),\n",
    "        legend_opts=opts.LegendOpts(pos_left=\"left\"),\n",
    "        toolbox_opts=opts.ToolboxOpts(\n",
    "            is_show=True,\n",
    "            pos_top=\"30\",\n",
    "            feature={\n",
    "                \"dataZoom\": {\"yAxisIndex\": \"none\"},\n",
    "                \"restore\": {},\n",
    "                \"saveAsImage\": {},\n",
    "            },\n",
    "        ),\n",
    "    )\n",
    ")\n",
    "(\n",
    "    Grid(init_opts=opts.InitOpts(width=\"1024px\", height=\"768px\", page_title=\"1#strategy\"))\n",
    "    .add(chart=l1, grid_opts=opts.GridOpts(pos_left=50, pos_right=10, height=\"75%\"))\n",
    "    .render(\"./html/paint.html\")\n",
    ")"
   ]
  },
  {
   "cell_type": "code",
   "execution_count": null,
   "id": "0234960d",
   "metadata": {},
   "outputs": [],
   "source": []
  }
 ],
 "metadata": {
  "kernelspec": {
   "display_name": "Python 3 (ipykernel)",
   "language": "python",
   "name": "python3"
  },
  "language_info": {
   "codemirror_mode": {
    "name": "ipython",
    "version": 3
   },
   "file_extension": ".py",
   "mimetype": "text/x-python",
   "name": "python",
   "nbconvert_exporter": "python",
   "pygments_lexer": "ipython3",
   "version": "3.8.13"
  }
 },
 "nbformat": 4,
 "nbformat_minor": 5
}
